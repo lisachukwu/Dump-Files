{
 "cells": [
  {
   "cell_type": "markdown",
   "id": "f3831afa",
   "metadata": {},
   "source": [
    "### Find and Visualize Missing Data"
   ]
  },
  {
   "cell_type": "code",
   "execution_count": 1,
   "id": "b8d715ca",
   "metadata": {},
   "outputs": [
    {
     "data": {
      "text/html": [
       "<div>\n",
       "<style scoped>\n",
       "    .dataframe tbody tr th:only-of-type {\n",
       "        vertical-align: middle;\n",
       "    }\n",
       "\n",
       "    .dataframe tbody tr th {\n",
       "        vertical-align: top;\n",
       "    }\n",
       "\n",
       "    .dataframe thead th {\n",
       "        text-align: right;\n",
       "    }\n",
       "</style>\n",
       "<table border=\"1\" class=\"dataframe\">\n",
       "  <thead>\n",
       "    <tr style=\"text-align: right;\">\n",
       "      <th></th>\n",
       "      <th>PassengerId</th>\n",
       "      <th>Survived</th>\n",
       "      <th>Pclass</th>\n",
       "      <th>Name</th>\n",
       "      <th>Sex</th>\n",
       "      <th>Age</th>\n",
       "      <th>SibSp</th>\n",
       "      <th>Parch</th>\n",
       "      <th>Ticket</th>\n",
       "      <th>Fare</th>\n",
       "      <th>Cabin</th>\n",
       "      <th>Embarked</th>\n",
       "    </tr>\n",
       "  </thead>\n",
       "  <tbody>\n",
       "    <tr>\n",
       "      <th>0</th>\n",
       "      <td>1</td>\n",
       "      <td>0</td>\n",
       "      <td>3</td>\n",
       "      <td>Braund, Mr. Owen Harris</td>\n",
       "      <td>male</td>\n",
       "      <td>22.0</td>\n",
       "      <td>1</td>\n",
       "      <td>0</td>\n",
       "      <td>A/5 21171</td>\n",
       "      <td>7.2500</td>\n",
       "      <td>NaN</td>\n",
       "      <td>S</td>\n",
       "    </tr>\n",
       "    <tr>\n",
       "      <th>1</th>\n",
       "      <td>2</td>\n",
       "      <td>1</td>\n",
       "      <td>1</td>\n",
       "      <td>Cumings, Mrs. John Bradley (Florence Briggs Th...</td>\n",
       "      <td>female</td>\n",
       "      <td>38.0</td>\n",
       "      <td>1</td>\n",
       "      <td>0</td>\n",
       "      <td>PC 17599</td>\n",
       "      <td>71.2833</td>\n",
       "      <td>C85</td>\n",
       "      <td>C</td>\n",
       "    </tr>\n",
       "    <tr>\n",
       "      <th>2</th>\n",
       "      <td>3</td>\n",
       "      <td>1</td>\n",
       "      <td>3</td>\n",
       "      <td>Heikkinen, Miss. Laina</td>\n",
       "      <td>female</td>\n",
       "      <td>26.0</td>\n",
       "      <td>0</td>\n",
       "      <td>0</td>\n",
       "      <td>STON/O2. 3101282</td>\n",
       "      <td>7.9250</td>\n",
       "      <td>NaN</td>\n",
       "      <td>S</td>\n",
       "    </tr>\n",
       "    <tr>\n",
       "      <th>3</th>\n",
       "      <td>4</td>\n",
       "      <td>1</td>\n",
       "      <td>1</td>\n",
       "      <td>Futrelle, Mrs. Jacques Heath (Lily May Peel)</td>\n",
       "      <td>female</td>\n",
       "      <td>35.0</td>\n",
       "      <td>1</td>\n",
       "      <td>0</td>\n",
       "      <td>113803</td>\n",
       "      <td>53.1000</td>\n",
       "      <td>C123</td>\n",
       "      <td>S</td>\n",
       "    </tr>\n",
       "    <tr>\n",
       "      <th>4</th>\n",
       "      <td>5</td>\n",
       "      <td>0</td>\n",
       "      <td>3</td>\n",
       "      <td>Allen, Mr. William Henry</td>\n",
       "      <td>male</td>\n",
       "      <td>35.0</td>\n",
       "      <td>0</td>\n",
       "      <td>0</td>\n",
       "      <td>373450</td>\n",
       "      <td>8.0500</td>\n",
       "      <td>NaN</td>\n",
       "      <td>S</td>\n",
       "    </tr>\n",
       "  </tbody>\n",
       "</table>\n",
       "</div>"
      ],
      "text/plain": [
       "   PassengerId  Survived  Pclass  \\\n",
       "0            1         0       3   \n",
       "1            2         1       1   \n",
       "2            3         1       3   \n",
       "3            4         1       1   \n",
       "4            5         0       3   \n",
       "\n",
       "                                                Name     Sex   Age  SibSp  \\\n",
       "0                            Braund, Mr. Owen Harris    male  22.0      1   \n",
       "1  Cumings, Mrs. John Bradley (Florence Briggs Th...  female  38.0      1   \n",
       "2                             Heikkinen, Miss. Laina  female  26.0      0   \n",
       "3       Futrelle, Mrs. Jacques Heath (Lily May Peel)  female  35.0      1   \n",
       "4                           Allen, Mr. William Henry    male  35.0      0   \n",
       "\n",
       "   Parch            Ticket     Fare Cabin Embarked  \n",
       "0      0         A/5 21171   7.2500   NaN        S  \n",
       "1      0          PC 17599  71.2833   C85        C  \n",
       "2      0  STON/O2. 3101282   7.9250   NaN        S  \n",
       "3      0            113803  53.1000  C123        S  \n",
       "4      0            373450   8.0500   NaN        S  "
      ]
     },
     "execution_count": 1,
     "metadata": {},
     "output_type": "execute_result"
    }
   ],
   "source": [
    "import pandas as pd\n",
    "# !pip install missingno\n",
    "\n",
    "# Load data from our dataset file into a pandas dataframe\n",
    "# https://raw.githubusercontent.com/MicrosoftDocs/mslearn-introduction-to-machine-learning/main/Data/titanic.csv\n",
    "df = pd.read_csv(r\"C:\\Users\\Lisa Chukwu\\Downloads\\titanic.csv\", index_col=False, sep=\",\", header=0)\n",
    "df.head()"
   ]
  },
  {
   "cell_type": "code",
   "execution_count": 2,
   "id": "06616ec3",
   "metadata": {},
   "outputs": [
    {
     "data": {
      "text/plain": [
       "(891, 12)"
      ]
     },
     "execution_count": 2,
     "metadata": {},
     "output_type": "execute_result"
    }
   ],
   "source": [
    "df.shape\n",
    "#we have 891 rows(containing passenger info) and 12 columns(variables)"
   ]
  },
  {
   "cell_type": "markdown",
   "id": "c52dd564",
   "metadata": {},
   "source": [
    "From History, we know we had more than 2000 people on titanic and hence we understand that we have over 1000 missing records"
   ]
  },
  {
   "cell_type": "code",
   "execution_count": 3,
   "id": "de97c417",
   "metadata": {},
   "outputs": [
    {
     "name": "stdout",
     "output_type": "stream",
     "text": [
      "             Empty Cells\n",
      "PassengerId            0\n",
      "Survived               0\n",
      "Pclass                 0\n",
      "Name                   0\n",
      "Sex                    0\n",
      "Age                  177\n",
      "SibSp                  0\n",
      "Parch                  0\n",
      "Ticket                 0\n",
      "Fare                   0\n",
      "Cabin                687\n",
      "Embarked               2\n"
     ]
    }
   ],
   "source": [
    "# Calculate the number of empty cells in each column\n",
    "# The following line consists of three commands.\n",
    "# the number of missing entries per column\n",
    "missing_data = df.isnull().sum().to_frame()\n",
    "\n",
    "# Rename column holding the sums\n",
    "missing_data = missing_data.rename(columns={0:'Empty Cells'})\n",
    "\n",
    "# Print the results\n",
    "print(missing_data)"
   ]
  },
  {
   "cell_type": "markdown",
   "id": "3695337e",
   "metadata": {},
   "source": [
    "The age of 177 passengers is unknown, also whether two passengers embarked\n",
    "There also is missing information of 687 cabin crew persons"
   ]
  },
  {
   "cell_type": "code",
   "execution_count": 4,
   "id": "5b9136de",
   "metadata": {},
   "outputs": [
    {
     "data": {
      "text/plain": [
       "<AxesSubplot:>"
      ]
     },
     "execution_count": 4,
     "metadata": {},
     "output_type": "execute_result"
    },
    {
     "data": {
      "image/png": "[encoded data removed]",
      "text/plain": [
       "<Figure size 1000x500 with 2 Axes>"
      ]
     },
     "metadata": {},
     "output_type": "display_data"
    }
   ],
   "source": [
    "# import missingno package\n",
    "import missingno as msno\n",
    "\n",
    "# Plot a matrix chart, set chart and font size\n",
    "msno.matrix(df, figsize=(10,5), fontsize=11)"
   ]
  },
  {
   "cell_type": "code",
   "execution_count": 5,
   "id": "a98d6cde",
   "metadata": {},
   "outputs": [],
   "source": [
    "# this shows visually that there are more missing records in the age and cabin colums.\n",
    "# the embarked column has just 2 missing records\n",
    "# the white bars represent missing entries\n",
    "\n",
    "#using pandas to get a list of passengers with missing age"
   ]
  },
  {
   "cell_type": "code",
   "execution_count": 6,
   "id": "ce9cb80a",
   "metadata": {},
   "outputs": [
    {
     "data": {
      "text/html": [
       "<div>\n",
       "<style scoped>\n",
       "    .dataframe tbody tr th:only-of-type {\n",
       "        vertical-align: middle;\n",
       "    }\n",
       "\n",
       "    .dataframe tbody tr th {\n",
       "        vertical-align: top;\n",
       "    }\n",
       "\n",
       "    .dataframe thead th {\n",
       "        text-align: right;\n",
       "    }\n",
       "</style>\n",
       "<table border=\"1\" class=\"dataframe\">\n",
       "  <thead>\n",
       "    <tr style=\"text-align: right;\">\n",
       "      <th></th>\n",
       "      <th>Pclass</th>\n",
       "      <th>PassengerId</th>\n",
       "      <th>Name</th>\n",
       "      <th>Survived</th>\n",
       "      <th>Age</th>\n",
       "    </tr>\n",
       "  </thead>\n",
       "  <tbody>\n",
       "    <tr>\n",
       "      <th>5</th>\n",
       "      <td>3</td>\n",
       "      <td>6</td>\n",
       "      <td>Moran, Mr. James</td>\n",
       "      <td>0</td>\n",
       "      <td>NaN</td>\n",
       "    </tr>\n",
       "    <tr>\n",
       "      <th>17</th>\n",
       "      <td>2</td>\n",
       "      <td>18</td>\n",
       "      <td>Williams, Mr. Charles Eugene</td>\n",
       "      <td>1</td>\n",
       "      <td>NaN</td>\n",
       "    </tr>\n",
       "    <tr>\n",
       "      <th>19</th>\n",
       "      <td>3</td>\n",
       "      <td>20</td>\n",
       "      <td>Masselmani, Mrs. Fatima</td>\n",
       "      <td>1</td>\n",
       "      <td>NaN</td>\n",
       "    </tr>\n",
       "    <tr>\n",
       "      <th>26</th>\n",
       "      <td>3</td>\n",
       "      <td>27</td>\n",
       "      <td>Emir, Mr. Farred Chehab</td>\n",
       "      <td>0</td>\n",
       "      <td>NaN</td>\n",
       "    </tr>\n",
       "    <tr>\n",
       "      <th>28</th>\n",
       "      <td>3</td>\n",
       "      <td>29</td>\n",
       "      <td>O'Dwyer, Miss. Ellen \"Nellie\"</td>\n",
       "      <td>1</td>\n",
       "      <td>NaN</td>\n",
       "    </tr>\n",
       "    <tr>\n",
       "      <th>29</th>\n",
       "      <td>3</td>\n",
       "      <td>30</td>\n",
       "      <td>Todoroff, Mr. Lalio</td>\n",
       "      <td>0</td>\n",
       "      <td>NaN</td>\n",
       "    </tr>\n",
       "    <tr>\n",
       "      <th>31</th>\n",
       "      <td>1</td>\n",
       "      <td>32</td>\n",
       "      <td>Spencer, Mrs. William Augustus (Marie Eugenie)</td>\n",
       "      <td>1</td>\n",
       "      <td>NaN</td>\n",
       "    </tr>\n",
       "    <tr>\n",
       "      <th>32</th>\n",
       "      <td>3</td>\n",
       "      <td>33</td>\n",
       "      <td>Glynn, Miss. Mary Agatha</td>\n",
       "      <td>1</td>\n",
       "      <td>NaN</td>\n",
       "    </tr>\n",
       "    <tr>\n",
       "      <th>36</th>\n",
       "      <td>3</td>\n",
       "      <td>37</td>\n",
       "      <td>Mamee, Mr. Hanna</td>\n",
       "      <td>1</td>\n",
       "      <td>NaN</td>\n",
       "    </tr>\n",
       "    <tr>\n",
       "      <th>42</th>\n",
       "      <td>3</td>\n",
       "      <td>43</td>\n",
       "      <td>Kraeff, Mr. Theodor</td>\n",
       "      <td>0</td>\n",
       "      <td>NaN</td>\n",
       "    </tr>\n",
       "    <tr>\n",
       "      <th>45</th>\n",
       "      <td>3</td>\n",
       "      <td>46</td>\n",
       "      <td>Rogers, Mr. William John</td>\n",
       "      <td>0</td>\n",
       "      <td>NaN</td>\n",
       "    </tr>\n",
       "    <tr>\n",
       "      <th>46</th>\n",
       "      <td>3</td>\n",
       "      <td>47</td>\n",
       "      <td>Lennon, Mr. Denis</td>\n",
       "      <td>0</td>\n",
       "      <td>NaN</td>\n",
       "    </tr>\n",
       "    <tr>\n",
       "      <th>47</th>\n",
       "      <td>3</td>\n",
       "      <td>48</td>\n",
       "      <td>O'Driscoll, Miss. Bridget</td>\n",
       "      <td>1</td>\n",
       "      <td>NaN</td>\n",
       "    </tr>\n",
       "    <tr>\n",
       "      <th>48</th>\n",
       "      <td>3</td>\n",
       "      <td>49</td>\n",
       "      <td>Samaan, Mr. Youssef</td>\n",
       "      <td>0</td>\n",
       "      <td>NaN</td>\n",
       "    </tr>\n",
       "    <tr>\n",
       "      <th>55</th>\n",
       "      <td>1</td>\n",
       "      <td>56</td>\n",
       "      <td>Woolner, Mr. Hugh</td>\n",
       "      <td>1</td>\n",
       "      <td>NaN</td>\n",
       "    </tr>\n",
       "    <tr>\n",
       "      <th>64</th>\n",
       "      <td>1</td>\n",
       "      <td>65</td>\n",
       "      <td>Stewart, Mr. Albert A</td>\n",
       "      <td>0</td>\n",
       "      <td>NaN</td>\n",
       "    </tr>\n",
       "    <tr>\n",
       "      <th>65</th>\n",
       "      <td>3</td>\n",
       "      <td>66</td>\n",
       "      <td>Moubarek, Master. Gerios</td>\n",
       "      <td>1</td>\n",
       "      <td>NaN</td>\n",
       "    </tr>\n",
       "    <tr>\n",
       "      <th>76</th>\n",
       "      <td>3</td>\n",
       "      <td>77</td>\n",
       "      <td>Staneff, Mr. Ivan</td>\n",
       "      <td>0</td>\n",
       "      <td>NaN</td>\n",
       "    </tr>\n",
       "    <tr>\n",
       "      <th>77</th>\n",
       "      <td>3</td>\n",
       "      <td>78</td>\n",
       "      <td>Moutal, Mr. Rahamin Haim</td>\n",
       "      <td>0</td>\n",
       "      <td>NaN</td>\n",
       "    </tr>\n",
       "    <tr>\n",
       "      <th>82</th>\n",
       "      <td>3</td>\n",
       "      <td>83</td>\n",
       "      <td>McDermott, Miss. Brigdet Delia</td>\n",
       "      <td>1</td>\n",
       "      <td>NaN</td>\n",
       "    </tr>\n",
       "  </tbody>\n",
       "</table>\n",
       "</div>"
      ],
      "text/plain": [
       "    Pclass  PassengerId                                            Name  \\\n",
       "5        3            6                                Moran, Mr. James   \n",
       "17       2           18                    Williams, Mr. Charles Eugene   \n",
       "19       3           20                         Masselmani, Mrs. Fatima   \n",
       "26       3           27                         Emir, Mr. Farred Chehab   \n",
       "28       3           29                   O'Dwyer, Miss. Ellen \"Nellie\"   \n",
       "29       3           30                             Todoroff, Mr. Lalio   \n",
       "31       1           32  Spencer, Mrs. William Augustus (Marie Eugenie)   \n",
       "32       3           33                        Glynn, Miss. Mary Agatha   \n",
       "36       3           37                                Mamee, Mr. Hanna   \n",
       "42       3           43                             Kraeff, Mr. Theodor   \n",
       "45       3           46                        Rogers, Mr. William John   \n",
       "46       3           47                               Lennon, Mr. Denis   \n",
       "47       3           48                       O'Driscoll, Miss. Bridget   \n",
       "48       3           49                             Samaan, Mr. Youssef   \n",
       "55       1           56                               Woolner, Mr. Hugh   \n",
       "64       1           65                           Stewart, Mr. Albert A   \n",
       "65       3           66                        Moubarek, Master. Gerios   \n",
       "76       3           77                               Staneff, Mr. Ivan   \n",
       "77       3           78                        Moutal, Mr. Rahamin Haim   \n",
       "82       3           83                  McDermott, Miss. Brigdet Delia   \n",
       "\n",
       "    Survived  Age  \n",
       "5          0  NaN  \n",
       "17         1  NaN  \n",
       "19         1  NaN  \n",
       "26         0  NaN  \n",
       "28         1  NaN  \n",
       "29         0  NaN  \n",
       "31         1  NaN  \n",
       "32         1  NaN  \n",
       "36         1  NaN  \n",
       "42         0  NaN  \n",
       "45         0  NaN  \n",
       "46         0  NaN  \n",
       "47         1  NaN  \n",
       "48         0  NaN  \n",
       "55         1  NaN  \n",
       "64         0  NaN  \n",
       "65         1  NaN  \n",
       "76         0  NaN  \n",
       "77         0  NaN  \n",
       "82         1  NaN  "
      ]
     },
     "execution_count": 6,
     "metadata": {},
     "output_type": "execute_result"
    }
   ],
   "source": [
    "unknown_age = df[df[\"Age\"].isnull()]\n",
    "\n",
    "# Print only the colums we want for the moment (to better fit the screen)\n",
    "# limit output to 20 rows\n",
    "unknown_age[[\"Pclass\",\"PassengerId\",\"Name\", \"Survived\", \"Age\"]][:20]"
   ]
  },
  {
   "cell_type": "code",
   "execution_count": 7,
   "id": "ee2d6c99",
   "metadata": {},
   "outputs": [],
   "source": [
    "# list of passengers with missing cabin and embarked info\n",
    "\n",
    "missing_age = df[\"Age\"].isnull()\n",
    "missing_cabin = df[\"Cabin\"].isnull()\n",
    "\n",
    "#passengers missing both\n",
    "unkn_age_cabin = df[missing_age & missing_cabin]"
   ]
  },
  {
   "cell_type": "code",
   "execution_count": 8,
   "id": "8ee14c08",
   "metadata": {},
   "outputs": [
    {
     "name": "stdout",
     "output_type": "stream",
     "text": [
      "Number of passengers missing both age and cabin info 158\n"
     ]
    }
   ],
   "source": [
    "print(\"Number of passengers missing both age and cabin info\", len(unkn_age_cabin))"
   ]
  },
  {
   "cell_type": "markdown",
   "id": "836989fb",
   "metadata": {},
   "source": [
    "Most passengers missing age information are also missing cabin information.\n",
    "\n",
    "A good hypothesis is that information was not collected well for the passengers with the cheap tickets."
   ]
  },
  {
   "cell_type": "code",
   "execution_count": 39,
   "id": "2200ed3d",
   "metadata": {},
   "outputs": [
    {
     "data": {
      "image/png": "[encoded data removed]",
      "text/plain": [
       "<Figure size 640x480 with 1 Axes>"
      ]
     },
     "metadata": {},
     "output_type": "display_data"
    }
   ],
   "source": [
    "#histogram of ticket classes of passengers with missing info\n",
    "import matplotlib.pyplot as plt\n",
    "\n",
    "plt.hist(df['Pclass'],color = 'brown')\n",
    "plt.title(\"Ticket Class (All Passengers)\")\n",
    "plt.show()"
   ]
  },
  {
   "cell_type": "code",
   "execution_count": 38,
   "id": "dca324ab",
   "metadata": {},
   "outputs": [
    {
     "data": {
      "text/plain": [
       "<function matplotlib.pyplot.show(close=None, block=None)>"
      ]
     },
     "execution_count": 38,
     "metadata": {},
     "output_type": "execute_result"
    },
    {
     "data": {
      "image/png": "[encoded data removed]",
      "text/plain": [
       "<Figure size 640x480 with 1 Axes>"
      ]
     },
     "metadata": {},
     "output_type": "display_data"
    }
   ],
   "source": [
    "plt.hist(unkn_age_cabin['Pclass'], color='purple')\n",
    "plt.title(\"Ticket Class(Passengers Missing Cabin and Age Information)\")\n",
    "plt.show"
   ]
  },
  {
   "cell_type": "markdown",
   "id": "efe67888",
   "metadata": {},
   "source": [
    "So a greater percentage of the passengers with missing information are those with cheap tickets "
   ]
  },
  {
   "cell_type": "code",
   "execution_count": 11,
   "id": "43ec2f29",
   "metadata": {},
   "outputs": [
    {
     "name": "stdout",
     "output_type": "stream",
     "text": [
      "The average age on the ship was 29.69911764705882 years old\n",
      "The average age on the ship was 23.79929292929293 years old\n"
     ]
    }
   ],
   "source": [
    "import numpy as np\n",
    "\n",
    "mean_age = np.mean(df.Age)\n",
    "print(\"The average age on the ship was\", mean_age, \"years old\")\n",
    "\n",
    "# Now make another model where missing ages contained a 0\n",
    "df['Age_2'] = df['Age'].fillna(0)\n",
    "mean_age = np.mean(df.Age_2)\n",
    "print(\"The average age on the ship was\", mean_age, \"years old\")"
   ]
  },
  {
   "cell_type": "code",
   "execution_count": 33,
   "id": "696fb222",
   "metadata": {},
   "outputs": [
    {
     "data": {
      "image/png": "[encoded data removed]",
      "text/plain": [
       "<Figure size 640x480 with 1 Axes>"
      ]
     },
     "metadata": {},
     "output_type": "display_data"
    },
    {
     "data": {
      "text/plain": [
       "<Figure size 1500x700 with 0 Axes>"
      ]
     },
     "metadata": {},
     "output_type": "display_data"
    }
   ],
   "source": [
    "plt.hist(df[\"Age_2\"], color = 'maroon')\n",
    "plt.figure(figsize = (15,7))\n",
    "plt.show()\n",
    "\n",
    "# from this now, notice that there is an unlikely number of very young children"
   ]
  },
  {
   "cell_type": "code",
   "execution_count": 34,
   "id": "bea1f7a5",
   "metadata": {},
   "outputs": [
    {
     "name": "stdout",
     "output_type": "stream",
     "text": [
      "The original size of our dataset was (891, 13)\n",
      "The shape for the clean dataset is (889, 13)\n"
     ]
    }
   ],
   "source": [
    "#Handling Missing Data\n",
    "\n",
    "#first, some data from the embarked column is removed, this column has only rwo missing data\n",
    "\n",
    "print(f\"The original size of our dataset was\", df.shape)\n",
    "clean_df = df.dropna(subset=[\"Embarked\"])\n",
    "clean_df = clean_df.reindex()\n",
    "print(\"The shape for the clean dataset is\", clean_df.shape)"
   ]
  },
  {
   "cell_type": "code",
   "execution_count": 35,
   "id": "2f444367",
   "metadata": {},
   "outputs": [
    {
     "name": "stdout",
     "output_type": "stream",
     "text": [
      "The mean age is 29.64209269662921\n",
      "             Empty Cells\n",
      "PassengerId            0\n",
      "Survived               0\n",
      "Pclass                 0\n",
      "Name                   0\n",
      "Sex                    0\n",
      "Age                    0\n",
      "SibSp                  0\n",
      "Parch                  0\n",
      "Ticket                 0\n",
      "Fare                   0\n",
      "Cabin                687\n",
      "Embarked               0\n",
      "Age_2                  0\n"
     ]
    }
   ],
   "source": [
    "# Replacing empty values with the mean Age\n",
    "\n",
    "# Calculating the mean value for the Age column\n",
    "mean_age = clean_df[\"Age\"].mean()\n",
    "\n",
    "print(\"The mean age is\", mean_age)\n",
    "\n",
    "# Replace empty values in \"Age\" with the mean calculated above\n",
    "clean_df[\"Age\"].fillna(mean_age, inplace=True)\n",
    "\n",
    "# Let's see what the clean dataset looks like now\n",
    "print(clean_df.isnull().sum().to_frame().rename(columns={0:'Empty Cells'}))"
   ]
  },
  {
   "cell_type": "markdown",
   "id": "4c72285d",
   "metadata": {},
   "source": [
    "Age Column no longer has empty rows."
   ]
  },
  {
   "cell_type": "code",
   "execution_count": 37,
   "id": "31311d3a",
   "metadata": {},
   "outputs": [
    {
     "name": "stdout",
     "output_type": "stream",
     "text": [
      "             Empty Cells\n",
      "PassengerId            0\n",
      "Survived               0\n",
      "Pclass                 0\n",
      "Name                   0\n",
      "Sex                    0\n",
      "Age                    0\n",
      "SibSp                  0\n",
      "Parch                  0\n",
      "Ticket                 0\n",
      "Fare                   0\n",
      "Cabin                  0\n",
      "Embarked               0\n",
      "Age_2                  0\n"
     ]
    }
   ],
   "source": [
    "# The cabin column has categorical data, an unknown category is created and assigned to the missing rows.\n",
    "\n",
    "# Assign unknow to records where \"Cabin\" is empty\n",
    "clean_df[\"Cabin\"].fillna(\"Unknown\", inplace=True)\n",
    "\n",
    "# Let's see what the clean dataset looks like now\n",
    "print(clean_df.isnull().sum().to_frame().rename(columns={0:'Empty Cells'}))"
   ]
  },
  {
   "cell_type": "markdown",
   "id": "8e05b727",
   "metadata": {},
   "source": [
    "There is no more missing data in this dataset.\n",
    "\n",
    "In the process of cleaning this data, only two records were lost in the Embarked column.\n",
    "\n",
    "Approximations were made to fill the Age and Cabin columns, and this will influence the performance of any model trained on this data"
   ]
  }
 ],
 "metadata": {
  "kernelspec": {
   "display_name": "Python 3 (ipykernel)",
   "language": "python",
   "name": "python3"
  },
  "language_info": {
   "codemirror_mode": {
    "name": "ipython",
    "version": 3
   },
   "file_extension": ".py",
   "mimetype": "text/x-python",
   "name": "python",
   "nbconvert_exporter": "python",
   "pygments_lexer": "ipython3",
   "version": "3.9.13"
  }
 },
 "nbformat": 4,
 "nbformat_minor": 5
}
